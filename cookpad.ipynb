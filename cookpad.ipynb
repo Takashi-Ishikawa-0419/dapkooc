{
 "cells": [
  {
   "cell_type": "code",
   "execution_count": null,
   "metadata": {},
   "outputs": [],
   "source": [
    "import urllib.request                                                                                \n",
    "import bs4\n",
    "import json\n",
    "import pickle\n",
    "#import sys\n",
    "\n",
    "# 検索対象url番号\n",
    "start, end = 0, 100 # int(sys.argv[1]), int(sys.argv[2])\n",
    "\n",
    "# 取得する数\n",
    "nb_menu = 1000000\n",
    "\n",
    "# 取得した数\n",
    "num = 0\n",
    "\n",
    "# 検索を再開するurl番号\n",
    "tmp = start\n",
    "\n",
    "# 終わり方\n",
    "menu_keys = ['@context', '@type', 'name',\n",
    "             'author', 'image', 'datePublished',\n",
    "             'description', 'recipeYield', 'recipeIngredient',\n",
    "             'recipeInstructions', 'cookTime']\n",
    "\n",
    "#menu_template = dict([(key, 'None') for key in menu_keys]) # 複製には deepcopy を使う\n",
    "\n",
    "menu = []\n",
    "\n",
    "while(num < nb_menu and tmp < end): # nb_menu個見つけるか、startがendになるまで # 冗長...\n",
    "\n",
    "    for i in range(tmp, end):\n",
    "        tmp = i+1 # 次に検索し始めるurl番号を記録\n",
    "        url = 'https://cookpad.com/recipe/' + str(i)\n",
    "        try:\n",
    "            _menu = bs4.BeautifulSoup(urllib.request.urlopen(url).read(), \"lxml\")\n",
    "            print(\"found:\", str(start) + '-' + str(end), num, url)\n",
    "            _menu = json.loads(_menu.find(\"script\", {\"type\": \"application/ld+json\"}).get_text())\n",
    "            menu.append(_menu)\n",
    "            num += 1\n",
    "            break\n",
    "        except urllib.error.HTTPError as e:\n",
    "            continue\n",
    "\n",
    "\n",
    "with open('data/menu-' + str(start) + '-' + str(end) + '.pkl', 'wb') as f:\n",
    "    pickle.dump(menu, f)\n"
   ]
  },
  {
   "cell_type": "code",
   "execution_count": null,
   "metadata": {
    "scrolled": false
   },
   "outputs": [],
   "source": [
    "with open('data/menu-0-100.pkl', 'rb') as f:\n",
    "    hoge = pickle.load(f)\n",
    "\n",
    "for i in range(len(hoge)):\n",
    "    print()\n",
    "    print(i)\n",
    "    print('name: ', hoge[i]['name'])\n",
    "    print('datePublished', hoge[i]['datePublished'])\n",
    "    print('image', hoge[i]['image'])\n",
    "    print('recipeIngredient', hoge[i]['recipeIngredient']) # 半角空白文字で区切られてる\n",
    "    print('recipeInstructions', hoge[i]['recipeInstructions']) # リストになってる\n",
    "    #print(hoge[i])\n"
   ]
  }
 ],
 "metadata": {
  "kernelspec": {
   "display_name": "Python 3",
   "language": "python",
   "name": "python3"
  },
  "language_info": {
   "codemirror_mode": {
    "name": "ipython",
    "version": 3
   },
   "file_extension": ".py",
   "mimetype": "text/x-python",
   "name": "python",
   "nbconvert_exporter": "python",
   "pygments_lexer": "ipython3",
   "version": "3.6.4"
  }
 },
 "nbformat": 4,
 "nbformat_minor": 2
}
